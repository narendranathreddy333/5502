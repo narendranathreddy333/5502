{
 "cells": [
  {
   "cell_type": "markdown",
   "id": "03282986",
   "metadata": {},
   "source": [
    "# Turn-in Assignment 3"
   ]
  },
  {
   "cell_type": "code",
   "execution_count": 9,
   "id": "767552fa",
   "metadata": {},
   "outputs": [
    {
     "name": "stdout",
     "output_type": "stream",
     "text": [
      "0.1\n",
      "0.05\n",
      "0.07\n",
      "0.14\n"
     ]
    }
   ],
   "source": [
    "# Probability of liver disease\n",
    "p_A = 0.10\n",
    "\n",
    "# Probability of alcoholism\n",
    "p_B = 0.05\n",
    "\n",
    "# Probability of alcoholism given liver disease\n",
    "p_BA = 0.07\n",
    "\n",
    "# Probability of liver disease given alcoholism\n",
    "p_AB = (p_BA * p_A) / p_B\n",
    "\n",
    "print(p_A)\n",
    "print(p_B)\n",
    "print(p_BA)\n",
    "print(p_AB)"
   ]
  }
 ],
 "metadata": {
  "kernelspec": {
   "display_name": "Python 3 (ipykernel)",
   "language": "python",
   "name": "python3"
  },
  "language_info": {
   "codemirror_mode": {
    "name": "ipython",
    "version": 3
   },
   "file_extension": ".py",
   "mimetype": "text/x-python",
   "name": "python",
   "nbconvert_exporter": "python",
   "pygments_lexer": "ipython3",
   "version": "3.9.13"
  }
 },
 "nbformat": 4,
 "nbformat_minor": 5
}
