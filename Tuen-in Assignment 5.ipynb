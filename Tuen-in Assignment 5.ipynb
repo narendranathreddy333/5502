{
 "cells": [
  {
   "cell_type": "markdown",
   "id": "cfa31261",
   "metadata": {},
   "source": [
    " # Turn-in Assignment 5"
   ]
  },
  {
   "cell_type": "code",
   "execution_count": 2,
   "id": "8149fd9c",
   "metadata": {},
   "outputs": [
    {
     "name": "stdout",
     "output_type": "stream",
     "text": [
      "Range: 32\n",
      "Mean: 13.533333333333333\n",
      "Median: 10\n",
      "Mode: 7\n",
      "Variance: 95.83809523809525\n",
      "Degrees of Freedom: 14\n",
      "Standard Deviation: 9.789693316856011\n"
     ]
    }
   ],
   "source": [
    "import statistics\n",
    "\n",
    "# Sample data\n",
    "sample = [20, 12, 8, 10, 3, 15, 7, 35, 7, 33, 5, 17, 9, 18, 4]\n",
    "\n",
    "# Range\n",
    "range_value = max(sample) - min(sample)\n",
    "print(\"Range:\", range_value)\n",
    "\n",
    "# Mean\n",
    "mean_value = statistics.mean(sample)\n",
    "print(\"Mean:\", mean_value)\n",
    "\n",
    "# Median\n",
    "median_value = statistics.median(sample)\n",
    "print(\"Median:\", median_value)\n",
    "\n",
    "# Mode\n",
    "mode_value = statistics.mode(sample)\n",
    "print(\"Mode:\", mode_value)\n",
    "\n",
    "# Variance\n",
    "variance_value = statistics.variance(sample)\n",
    "print(\"Variance:\", variance_value)\n",
    "\n",
    "# Degrees of Freedom\n",
    "dof_value = len(sample) - 1\n",
    "print(\"Degrees of Freedom:\", dof_value)\n",
    "\n",
    "# Standard Deviation\n",
    "stdev_value = statistics.stdev(sample)\n",
    "print(\"Standard Deviation:\", stdev_value)"
   ]
  }
 ],
 "metadata": {
  "kernelspec": {
   "display_name": "Python 3 (ipykernel)",
   "language": "python",
   "name": "python3"
  },
  "language_info": {
   "codemirror_mode": {
    "name": "ipython",
    "version": 3
   },
   "file_extension": ".py",
   "mimetype": "text/x-python",
   "name": "python",
   "nbconvert_exporter": "python",
   "pygments_lexer": "ipython3",
   "version": "3.9.13"
  }
 },
 "nbformat": 4,
 "nbformat_minor": 5
}
